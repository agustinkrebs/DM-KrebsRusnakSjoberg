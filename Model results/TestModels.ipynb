{
  "nbformat": 4,
  "nbformat_minor": 0,
  "metadata": {
    "colab": {
      "name": "Untitled",
      "provenance": [],
      "collapsed_sections": []
    },
    "kernelspec": {
      "name": "python3",
      "display_name": "Python 3"
    },
    "accelerator": "GPU"
  },
  "cells": [
    {
      "cell_type": "code",
      "metadata": {
        "id": "7CU1-HfWX10N",
        "colab_type": "code",
        "outputId": "c021dc56-13a0-443a-b891-cc40c650e281",
        "colab": {
          "base_uri": "https://localhost:8080/",
          "height": 555
        }
      },
      "source": [
        "import tensorflow as tf \n",
        "import numpy as np\n",
        "import os\n",
        "import pandas as pd\n",
        "import time\n",
        "from os import listdir\n",
        "import functools\n",
        "import pickle\n",
        "import math\n",
        "from IPython import display as ipythondisplay\n",
        "from tqdm import tqdm\n",
        "\n",
        "from tensorflow.python.client import device_lib \n",
        "print(device_lib.list_local_devices())"
      ],
      "execution_count": 0,
      "outputs": [
        {
          "output_type": "stream",
          "text": [
            "[name: \"/device:CPU:0\"\n",
            "device_type: \"CPU\"\n",
            "memory_limit: 268435456\n",
            "locality {\n",
            "}\n",
            "incarnation: 10855627688620019691\n",
            ", name: \"/device:XLA_CPU:0\"\n",
            "device_type: \"XLA_CPU\"\n",
            "memory_limit: 17179869184\n",
            "locality {\n",
            "}\n",
            "incarnation: 17424495803030355944\n",
            "physical_device_desc: \"device: XLA_CPU device\"\n",
            ", name: \"/device:XLA_GPU:0\"\n",
            "device_type: \"XLA_GPU\"\n",
            "memory_limit: 17179869184\n",
            "locality {\n",
            "}\n",
            "incarnation: 18097567115471418291\n",
            "physical_device_desc: \"device: XLA_GPU device\"\n",
            ", name: \"/device:GPU:0\"\n",
            "device_type: \"GPU\"\n",
            "memory_limit: 11150726272\n",
            "locality {\n",
            "  bus_id: 1\n",
            "  links {\n",
            "  }\n",
            "}\n",
            "incarnation: 16690077339616391235\n",
            "physical_device_desc: \"device: 0, name: Tesla K80, pci bus id: 0000:00:04.0, compute capability: 3.7\"\n",
            "]\n"
          ],
          "name": "stdout"
        }
      ]
    },
    {
      "cell_type": "code",
      "metadata": {
        "id": "vsHvMeakbnSi",
        "colab_type": "code",
        "colab": {}
      },
      "source": [
        "import subprocess\n",
        "import regex as re\n",
        "\n",
        "import matplotlib.pyplot as plt\n",
        "from IPython import display as ipythondisplay\n",
        "\n",
        "\n",
        "from IPython.display import Audio\n",
        "from string import Formatter\n",
        "\n",
        "\n",
        "\n",
        "\n",
        "\n",
        "def display_model(model):\n",
        "  tf.keras.utils.plot_model(model,\n",
        "             to_file='tmp.png',\n",
        "             show_shapes=True)\n",
        "  return ipythondisplay.Image('tmp.png')\n",
        "\n",
        "\n",
        "def plot_sample(x,y,vae):\n",
        "    plt.figure(figsize=(2,1))\n",
        "    plt.subplot(1, 2, 1)\n",
        "\n",
        "    idx = np.where(y==1)[0][0]\n",
        "    plt.imshow(x[idx])\n",
        "    plt.grid(False)\n",
        "\n",
        "    plt.subplot(1, 2, 2)\n",
        "    _, _, _, recon = vae(x)\n",
        "    recon = np.clip(recon, 0, 1)\n",
        "    plt.imshow(recon[idx])\n",
        "    plt.grid(False)\n",
        "\n",
        "    plt.show()\n",
        "\n",
        "\n",
        "\n",
        "class LossHistory:\n",
        "  def __init__(self, smoothing_factor=0.0):\n",
        "    self.alpha = smoothing_factor\n",
        "    self.loss = []\n",
        "  def append(self, value):\n",
        "    self.loss.append( self.alpha*self.loss[-1] + (1-self.alpha)*value if len(self.loss)>0 else value )\n",
        "  def get(self):\n",
        "    return self.loss\n",
        "\n",
        "class PeriodicPlotter:\n",
        "  def __init__(self, sec, xlabel='', ylabel='', scale=None):\n",
        "\n",
        "    self.xlabel = xlabel\n",
        "    self.ylabel = ylabel\n",
        "    self.sec = sec\n",
        "    self.scale = scale\n",
        "\n",
        "    self.tic = time.time()\n",
        "\n",
        "  def plot(self, data):\n",
        "    if time.time() - self.tic > self.sec:\n",
        "      plt.cla()\n",
        "\n",
        "      if self.scale is None:\n",
        "        plt.plot(data)\n",
        "      elif self.scale == 'semilogx':\n",
        "        plt.semilogx(data)\n",
        "      elif self.scale == 'semilogy':\n",
        "        plt.semilogy(data)\n",
        "      elif self.scale == 'loglog':\n",
        "        plt.loglog(data)\n",
        "      else:\n",
        "        raise ValueError(\"unrecognized parameter scale {}\".format(self.scale))\n",
        "\n",
        "      plt.xlabel(self.xlabel); plt.ylabel(self.ylabel)\n",
        "      ipythondisplay.clear_output(wait=True)\n",
        "      ipythondisplay.display(plt.gcf())\n",
        "\n",
        "      self.tic = time.time()\n",
        "        \n",
        "cwd = os.getcwd()"
      ],
      "execution_count": 0,
      "outputs": []
    },
    {
      "cell_type": "code",
      "metadata": {
        "id": "mCyAtzBIbnuU",
        "colab_type": "code",
        "colab": {}
      },
      "source": [
        "def LSTM(rnn_units): \n",
        "  return tf.keras.layers.LSTM(\n",
        "    rnn_units, \n",
        "    return_sequences=True, \n",
        "    recurrent_initializer='glorot_uniform',\n",
        "    recurrent_activation='sigmoid',\n",
        "    stateful=True,\n",
        "  )\n",
        "\n",
        "def build_model(vocab_size, embedding_dim, rnn_units, batch_size):\n",
        "   \n",
        "    model = tf.keras.Sequential([\n",
        "    \n",
        "      tf.keras.layers.Embedding(vocab_size, embedding_dim, batch_input_shape=[batch_size, None]),\n",
        "\n",
        "      \n",
        "      LSTM(rnn_units), \n",
        "      \n",
        "      tf.keras.layers.Dense(vocab_size)\n",
        "      \n",
        "    ])\n",
        "\n",
        "    return model"
      ],
      "execution_count": 0,
      "outputs": []
    },
    {
      "cell_type": "code",
      "metadata": {
        "id": "-IHacVincKPL",
        "colab_type": "code",
        "colab": {}
      },
      "source": [
        "def compute_loss(labels, logits):\n",
        "  loss = tf.keras.losses.sparse_categorical_crossentropy(labels, logits, from_logits=True)\n",
        "  return loss"
      ],
      "execution_count": 0,
      "outputs": []
    },
    {
      "cell_type": "code",
      "metadata": {
        "id": "f28a-b9jcRlF",
        "colab_type": "code",
        "colab": {}
      },
      "source": [
        "modelF = build_model(200, embedding_dim=512, rnn_units=2048, batch_size=60)"
      ],
      "execution_count": 0,
      "outputs": []
    },
    {
      "cell_type": "code",
      "metadata": {
        "id": "g5rQGjcUcb8S",
        "colab_type": "code",
        "colab": {}
      },
      "source": [
        ""
      ],
      "execution_count": 0,
      "outputs": []
    },
    {
      "cell_type": "code",
      "metadata": {
        "id": "H8nhIPLyd6ut",
        "colab_type": "code",
        "colab": {}
      },
      "source": [
        "infile = open('/content/drive/My Drive/MusicData/balladTest.pkl','rb')\n",
        "testData = pickle.load(infile)\n",
        "infile.close()"
      ],
      "execution_count": 0,
      "outputs": []
    },
    {
      "cell_type": "code",
      "metadata": {
        "id": "D7daKUddep3F",
        "colab_type": "code",
        "outputId": "3e45b30d-968a-4255-bcdb-5a4f6fefcfe0",
        "colab": {
          "base_uri": "https://localhost:8080/",
          "height": 34
        }
      },
      "source": [
        "num_training_iterations = 50\n",
        "instrument = 'bass'\n",
        "batchSize = 60\n",
        "#checkpoint_dir = '/content/drive/Shared drives/Digital Musicology 2020/HouseMusicData/housedrums' \n",
        "checkpoint_dir = '/content/drive/My Drive/MusicData/balladBass' \n",
        "checkpoint_prefix = os.path.join(checkpoint_dir, \"balladBass\")\n",
        "modelF.load_weights(checkpoint_prefix)"
      ],
      "execution_count": 0,
      "outputs": [
        {
          "output_type": "execute_result",
          "data": {
            "text/plain": [
              "<tensorflow.python.training.tracking.util.CheckpointLoadStatus at 0x7fa575122940>"
            ]
          },
          "metadata": {
            "tags": []
          },
          "execution_count": 29
        }
      ]
    },
    {
      "cell_type": "code",
      "metadata": {
        "id": "njZeGsGnfzws",
        "colab_type": "code",
        "colab": {}
      },
      "source": [
        "def cut_output(y_hat, instrument ):\n",
        "    if(instrument=='drums'):\n",
        "      y_hat = y_hat[:,0:30]\n",
        "    if(instrument=='piano'):\n",
        "      y_hat = y_hat[:,30:60]\n",
        "    if(instrument=='guitar'):\n",
        "      y_hat = y_hat[:,60:90]\n",
        "    if(instrument=='bass'):\n",
        "      y_hat = y_hat[:,90:120]\n",
        "    return y_hat"
      ],
      "execution_count": 0,
      "outputs": []
    },
    {
      "cell_type": "code",
      "metadata": {
        "id": "H-XnQp9efJU8",
        "colab_type": "code",
        "colab": {}
      },
      "source": [
        "def encode_notes_full(notesArr):\n",
        "    size = math.ceil(notesArr[-1:][1])\n",
        "    sizeF = size*4\n",
        "    mod = sizeF%batchSize\n",
        "    pad = 0\n",
        "    if(mod != 0):\n",
        "         pad = batchSize - mod\n",
        "    encodeNotes =  pd.DataFrame([[0.0]*30]*(sizeF+pad))\n",
        "    length = len(notesArr)\n",
        "    count = 0\n",
        "    partInt=0\n",
        "    for i in range(length):\n",
        "        start = notesArr[0][i]\n",
        "        count = 0\n",
        "        end = notesArr[1][i]\n",
        "        dur = float(end) - float(start)\n",
        "        startInt = int(float(start))\n",
        "        part = float(start) - startInt\n",
        "        index = (startInt)*4\n",
        "        if(part<=0.25):\n",
        "            partInt = 0\n",
        "        elif(0.25<part<=0.5):\n",
        "            partInt = 1\n",
        "        elif(0.5<part<=0.75):\n",
        "            partInt = 2\n",
        "        elif(0.75<part<=1.0):\n",
        "            partInt = 3\n",
        "        #print(partInt)\n",
        "        for j in range(29):\n",
        "            if(encodeNotes[j][index + partInt]==0.0 and encodeNotes[j+1][index + partInt]==0.0 and encodeNotes[j+2][index + partInt]==0.0):\n",
        "                #print('here')\n",
        "                encodeNotes[j][index + partInt] = dur\n",
        "                encodeNotes[j+1][index + partInt] = notesArr[2][i]\n",
        "                encodeNotes[j+2][index + partInt] = notesArr[3][i]\n",
        "                break\n",
        "    return encodeNotes"
      ],
      "execution_count": 0,
      "outputs": []
    },
    {
      "cell_type": "code",
      "metadata": {
        "id": "Ra95IL2LhUZs",
        "colab_type": "code",
        "colab": {}
      },
      "source": [
        "def get_encoded_song( songNum, instrument):\n",
        "    drums = encode_notes_full(testData[0][songNum])\n",
        "    piano = encode_notes_full(testData[1][songNum])\n",
        "    guitar = encode_notes_full(testData[2][songNum])\n",
        "    bass = encode_notes_full(testData[3][songNum])\n",
        "    fullSong = pd.concat([drums, piano, guitar, bass], axis=1, sort=False)\n",
        "    fullSong.fillna(0.0, inplace=True)\n",
        "    if(instrument=='drums'):\n",
        "        drums.fillna(0.0, inplace=True)\n",
        "        return fullSong, drums\n",
        "    if(instrument=='piano'):\n",
        "        piano.fillna(0.0, inplace=True)\n",
        "        return fullSong, piano\n",
        "    if(instrument=='guitar'):\n",
        "        guitar.fillna(0.0, inplace=True)\n",
        "        return fullSong, guitar\n",
        "    if(instrument=='bass'):\n",
        "        bass.fillna(0.0, inplace=True)\n",
        "        return fullSong, bass"
      ],
      "execution_count": 0,
      "outputs": []
    },
    {
      "cell_type": "code",
      "metadata": {
        "id": "Rz1vCTd7hWh9",
        "colab_type": "code",
        "colab": {}
      },
      "source": [
        "def get_batchF(encodedNotes, encodedIns1, iteration, batchSize):\n",
        "\n",
        "    idx = int(iteration * batchSize)\n",
        "    input_batch = encodedNotes[idx:(idx+batchSize)].values\n",
        "    output_batch = encodedIns1[(idx+batchSize):(idx+(batchSize*2))].values\n",
        "    output_batch[output_batch > 200] = 200\n",
        "    output_batch[output_batch < 0] = 0\n",
        "    input_batch[input_batch > 200] = 200\n",
        "    input_batch[input_batch < 0] = 0\n",
        "    return input_batch, output_batch"
      ],
      "execution_count": 0,
      "outputs": []
    },
    {
      "cell_type": "code",
      "metadata": {
        "id": "F-Ufixo6sV4x",
        "colab_type": "code",
        "colab": {}
      },
      "source": [
        "def loss_data_type(y, y_hat):\n",
        "  #notesY =  pd.DataFrame([[0.0]*10]*(60))\n",
        "  #notes_y_hat = [0.0] * 10\n",
        "  #trackN = 0\n",
        "\n",
        "  #durY =  pd.DataFrame([[0.0]*10]*(60))\n",
        "  #dur_y_hat = [0.0] * 10\n",
        "  #trackD = 0\n",
        "\n",
        "  velY =  pd.DataFrame([[0.0]*10]*(60))\n",
        "  vel_y_hat = [0.0] * 10\n",
        "  trackV = 0\n",
        "  \n",
        "  for i in range(30):\n",
        "      #if(i%3==0):\n",
        "        #durY[:][trackD] = y[:,i]\n",
        "        #dur_y_hat[trackD] = y_hat[:,i]\n",
        "        #trackD += 1\n",
        "\n",
        "      #if(i%2==0 and i%3!=0):\n",
        "        #notesY[:][trackN] = y[:,i]\n",
        "        #notes_y_hat[trackN] = y_hat[:,i]\n",
        "        #trackN += 1\n",
        "\n",
        "      if(i%2!=0 and i%3!=0):\n",
        "        velY[:][trackV] = y[:,i]\n",
        "        vel_y_hat[trackV] = y_hat[:,i]\n",
        "        trackV += 1\n",
        "\n",
        "  #dur_y_hat = np.reshape(dur_y_hat,(60, 10, 200))\n",
        "  #dur_y_hat = tf.convert_to_tensor(dur_y_hat, dtype=tf.dtypes.float32)\n",
        "  #lossD = compute_loss(durY, dur_y_hat) \n",
        "\n",
        "  #notes_y_hat = np.reshape(notes_y_hat,(60, 10, 200))\n",
        "  #notes_y_hat = tf.convert_to_tensor(notes_y_hat, dtype=tf.dtypes.float32)\n",
        "  #lossN = compute_loss(notesY, notes_y_hat) \n",
        "\n",
        "  vel_y_hat = np.reshape(vel_y_hat,(60, 10, 200))\n",
        "  vel_y_hat = tf.convert_to_tensor(vel_y_hat, dtype=tf.dtypes.float32)\n",
        "  lossV = compute_loss(velY, vel_y_hat) \n",
        " \n",
        "  return lossV"
      ],
      "execution_count": 0,
      "outputs": []
    },
    {
      "cell_type": "code",
      "metadata": {
        "id": "E_z15JKCuZz4",
        "colab_type": "code",
        "outputId": "b73a7738-aa69-4346-dcb1-a032a7ec0c3d",
        "colab": {
          "base_uri": "https://localhost:8080/",
          "height": 54
        }
      },
      "source": [
        "'''song, ins = get_encoded_song(1, instrument)\n",
        "x_batch, y_batch = get_batchF(song, ins, 0, batchSize)\n",
        "y_hat = modelF(x_batch) \n",
        "y_hat = cut_output(y_hat, instrument)\n",
        "print(y_hat.shape)\n",
        "print(y_batch.shape)\n",
        "loss_data_type(y_batch, y_hat)\n",
        "print(compute_loss(y_batch, y_hat))\n",
        "print('boop')'''"
      ],
      "execution_count": 0,
      "outputs": [
        {
          "output_type": "execute_result",
          "data": {
            "text/plain": [
              "\"song, ins = get_encoded_song(1, instrument)\\nx_batch, y_batch = get_batchF(song, ins, 0, batchSize)\\ny_hat = modelF(x_batch) \\ny_hat = cut_output(y_hat, instrument)\\nprint(y_hat.shape)\\nprint(y_batch.shape)\\nloss_data_type(y_batch, y_hat)\\nprint(compute_loss(y_batch, y_hat))\\nprint('boop')\""
            ]
          },
          "metadata": {
            "tags": []
          },
          "execution_count": 35
        }
      ]
    },
    {
      "cell_type": "code",
      "metadata": {
        "colab_type": "code",
        "outputId": "5664ac03-8394-429c-9668-f320fc400b19",
        "id": "6xHWzdAWu9km",
        "colab": {
          "base_uri": "https://localhost:8080/",
          "height": 296
        }
      },
      "source": [
        "def test_step(x, y): \n",
        "  \n",
        "  y_hat = modelF(x) \n",
        "  y_hat = cut_output(y_hat, instrument)\n",
        "  #loss = compute_loss(y, y_hat) \n",
        "  lossN = loss_data_type(y, y_hat)\n",
        "  return lossN\n",
        "\n",
        "#history= []\n",
        "#historyD = []\n",
        "historyN = []\n",
        "#historyV = []\n",
        "count = 0\n",
        "\n",
        "plotter = PeriodicPlotter(sec=2, xlabel='Iterations', ylabel='Loss')\n",
        "\n",
        "if hasattr(tqdm, '_instances'): tqdm._instances.clear() \n",
        "for iter in tqdm(range(num_training_iterations)):\n",
        "      \n",
        "      song, ins = get_encoded_song(iter, instrument)\n",
        "      \n",
        "      for j in range(int(min((len(song)/batchSize)-1,int((len(ins)/batchSize)-1)))):\n",
        "          print(j)\n",
        "          x_batch, y_batch = get_batchF(song, ins, j, batchSize)\n",
        "          loss = test_step(x_batch, y_batch)\n",
        "          count += 1\n",
        "\n",
        "          \n",
        "          historyN.append(loss.numpy().mean())\n",
        "          plotter.plot(historyN)\n"
      ],
      "execution_count": 0,
      "outputs": [
        {
          "output_type": "display_data",
          "data": {
            "image/png": "[encoded data removed]",
            "text/plain": [
              "<Figure size 432x288 with 1 Axes>"
            ]
          },
          "metadata": {
            "tags": []
          }
        },
        {
          "output_type": "stream",
          "text": [
            "\r 76%|███████▌  | 38/50 [32:50<11:34, 57.88s/it]"
          ],
          "name": "stderr"
        },
        {
          "output_type": "stream",
          "text": [
            "0\n"
          ],
          "name": "stdout"
        }
      ]
    },
    {
      "cell_type": "code",
      "metadata": {
        "id": "2kk43Ll8F8_l",
        "colab_type": "code",
        "outputId": "3158362e-2f94-448a-df48-7857392b9c03",
        "colab": {
          "base_uri": "https://localhost:8080/",
          "height": 34
        }
      },
      "source": [
        "print(count)"
      ],
      "execution_count": 0,
      "outputs": [
        {
          "output_type": "stream",
          "text": [
            "2\n"
          ],
          "name": "stdout"
        }
      ]
    },
    {
      "cell_type": "code",
      "metadata": {
        "id": "ibfrZo5UhZeZ",
        "colab_type": "code",
        "outputId": "d07b72c1-9eb7-46f0-aad2-c56575cc343e",
        "colab": {
          "base_uri": "https://localhost:8080/",
          "height": 558
        }
      },
      "source": [
        "def test_step(x, y): \n",
        "  \n",
        "  y_hat = modelF(x) \n",
        "  y_hat = cut_output(y_hat, instrument)\n",
        "  loss = compute_loss(y, y_hat) \n",
        "  return loss\n",
        "\n",
        "history = []\n",
        "plotter = PeriodicPlotter(sec=2, xlabel='Iterations', ylabel='Loss')\n",
        "if hasattr(tqdm, '_instances'): tqdm._instances.clear() \n",
        "for iter in tqdm(range(num_training_iterations)):\n",
        "      \n",
        "      song, ins = get_encoded_song(iter, instrument)\n",
        "      \n",
        "      for j in range(int(min((len(song)/batchSize)-1,int((len(ins)/batchSize)-1)))):\n",
        "          print(j)\n",
        "          x_batch, y_batch = get_batchF(song, ins, j, batchSize)\n",
        "          loss = test_step(x_batch, y_batch)\n",
        "          \n",
        "          history.append(loss.numpy().mean())\n",
        "          plotter.plot(history)\n"
      ],
      "execution_count": 0,
      "outputs": [
        {
          "output_type": "display_data",
          "data": {
            "image/png": "[encoded data removed]",
            "text/plain": [
              "<Figure size 432x288 with 1 Axes>"
            ]
          },
          "metadata": {
            "tags": []
          }
        },
        {
          "output_type": "stream",
          "text": [
            "100%|██████████| 1487/1487 [11:34<00:00,  2.14it/s]\n"
          ],
          "name": "stderr"
        },
        {
          "output_type": "display_data",
          "data": {
            "image/png": "[encoded data removed]",
            "text/plain": [
              "<Figure size 432x288 with 1 Axes>"
            ]
          },
          "metadata": {
            "tags": [],
            "needs_background": "light"
          }
        }
      ]
    },
    {
      "cell_type": "code",
      "metadata": {
        "id": "m5lSeyBkoxKW",
        "colab_type": "code",
        "outputId": "c5585456-43bd-491e-cc23-cb70f6b31523",
        "colab": {
          "base_uri": "https://localhost:8080/",
          "height": 54
        }
      },
      "source": [
        "print(historyN)"
      ],
      "execution_count": 0,
      "outputs": [
        {
          "output_type": "stream",
          "text": [
            "[0.98702615, 1.4689819, 3.1641452, 2.1402009, 1.7908558, 1.399253, 1.3917004, 1.4937205, 0.91881806, 2.835941, 2.970587, 2.8265238, 1.6170363, 1.2988353, 1.689009, 2.01569, 1.5635886, 3.9773772, 3.500741, 2.1137743, 3.2574294, 1.5908624, 2.2695642, 2.3121555, 2.382733, 1.5949785, 1.6441877, 0.75786376, 0.76677036, 0.621948, 0.67216265, 0.6740605, 0.61415446, 2.0461876, 1.7006519, 1.6632482, 0.33415815, 1.527444, 1.5894394, 1.562717, 2.0527153, 1.2577463, 1.6397145, 1.2459038, 1.2421826, 2.5416176, 1.9053695, 2.5397365, 2.5581925, 2.5348723, 1.8200922, 2.0825562, 2.0379572, 2.8849747, 2.9544454, 2.1395257, 1.6045592, 1.3765078, 1.6071991, 1.7303605, 1.2216997, 1.4992707, 1.1078928, 1.3624625, 2.1350803, 1.5350261, 1.5662405, 1.979696, 1.9683228, 2.0621667, 2.0855381, 1.0738723, 1.1811374, 1.3160459, 0.3402655, 3.303884, 1.0001495, 2.6550283, 1.5333315, 1.7823389, 1.9748881, 1.8916382, 1.0124013, 0.24908756, 0.6120252, 0.0965775, 1.5008783, 1.6644605, 1.5966276, 1.0169619, 1.1254665]\n"
          ],
          "name": "stdout"
        }
      ]
    },
    {
      "cell_type": "code",
      "metadata": {
        "id": "Hy6JdJaoNXja",
        "colab_type": "code",
        "colab": {}
      },
      "source": [
        "pickle.dump(historyN, open(\"/content/drive/My Drive/MusicData/historyBalladBassN.pkl\", \"wb\"))"
      ],
      "execution_count": 0,
      "outputs": []
    },
    {
      "cell_type": "code",
      "metadata": {
        "id": "CdTdxhgGNqAs",
        "colab_type": "code",
        "colab": {}
      },
      "source": [
        ""
      ],
      "execution_count": 0,
      "outputs": []
    }
  ]
}