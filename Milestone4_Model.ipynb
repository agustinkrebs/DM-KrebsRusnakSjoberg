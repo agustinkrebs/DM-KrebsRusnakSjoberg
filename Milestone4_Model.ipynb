{
  "nbformat": 4,
  "nbformat_minor": 0,
  "metadata": {
    "colab": {
      "name": "Milestone4 Model.ipynb",
      "provenance": []
    },
    "kernelspec": {
      "name": "python3",
      "display_name": "Python 3"
    }
  },
  "cells": [
    {
      "cell_type": "code",
      "metadata": {
        "id": "74IxyaWvK0oz",
        "colab_type": "code",
        "colab": {}
      },
      "source": [
        "import tensorflow as tf \n",
        "import numpy as np\n",
        "import os\n",
        "import pandas as pd\n",
        "import time\n",
        "from os import listdir\n",
        "import functools\n",
        "import pickle\n",
        "import math\n",
        "from IPython import display as ipythondisplay\n",
        "from tqdm import tqdm"
      ],
      "execution_count": 0,
      "outputs": []
    },
    {
      "cell_type": "code",
      "metadata": {
        "id": "7fRvXCMeK3dT",
        "colab_type": "code",
        "colab": {}
      },
      "source": [
        "import subprocess\n",
        "import regex as re\n",
        "\n",
        "import matplotlib.pyplot as plt\n",
        "from IPython import display as ipythondisplay\n",
        "\n",
        "\n",
        "from IPython.display import Audio\n",
        "from string import Formatter\n",
        "\n",
        "\n",
        "\n",
        "\n",
        "\n",
        "def display_model(model):\n",
        "  tf.keras.utils.plot_model(model,\n",
        "             to_file='tmp.png',\n",
        "             show_shapes=True)\n",
        "  return ipythondisplay.Image('tmp.png')\n",
        "\n",
        "\n",
        "def plot_sample(x,y,vae):\n",
        "    plt.figure(figsize=(2,1))\n",
        "    plt.subplot(1, 2, 1)\n",
        "\n",
        "    idx = np.where(y==1)[0][0]\n",
        "    plt.imshow(x[idx])\n",
        "    plt.grid(False)\n",
        "\n",
        "    plt.subplot(1, 2, 2)\n",
        "    _, _, _, recon = vae(x)\n",
        "    recon = np.clip(recon, 0, 1)\n",
        "    plt.imshow(recon[idx])\n",
        "    plt.grid(False)\n",
        "\n",
        "    plt.show()\n",
        "\n",
        "\n",
        "\n",
        "class LossHistory:\n",
        "  def __init__(self, smoothing_factor=0.0):\n",
        "    self.alpha = smoothing_factor\n",
        "    self.loss = []\n",
        "  def append(self, value):\n",
        "    self.loss.append( self.alpha*self.loss[-1] + (1-self.alpha)*value if len(self.loss)>0 else value )\n",
        "  def get(self):\n",
        "    return self.loss\n",
        "\n",
        "class PeriodicPlotter:\n",
        "  def __init__(self, sec, xlabel='', ylabel='', scale=None):\n",
        "\n",
        "    self.xlabel = xlabel\n",
        "    self.ylabel = ylabel\n",
        "    self.sec = sec\n",
        "    self.scale = scale\n",
        "\n",
        "    self.tic = time.time()\n",
        "\n",
        "  def plot(self, data):\n",
        "    if time.time() - self.tic > self.sec:\n",
        "      plt.cla()\n",
        "\n",
        "      if self.scale is None:\n",
        "        plt.plot(data)\n",
        "      elif self.scale == 'semilogx':\n",
        "        plt.semilogx(data)\n",
        "      elif self.scale == 'semilogy':\n",
        "        plt.semilogy(data)\n",
        "      elif self.scale == 'loglog':\n",
        "        plt.loglog(data)\n",
        "      else:\n",
        "        raise ValueError(\"unrecognized parameter scale {}\".format(self.scale))\n",
        "\n",
        "      plt.xlabel(self.xlabel); plt.ylabel(self.ylabel)\n",
        "      ipythondisplay.clear_output(wait=True)\n",
        "      ipythondisplay.display(plt.gcf())\n",
        "\n",
        "      self.tic = time.time()\n",
        "        \n",
        "cwd = os.getcwd()\n",
        "\n",
        "def load_training_data():\n",
        "    with open(os.path.join(cwd, \"data\", \"irish.abc\"), \"r\") as f:\n",
        "        text = f.read()\n",
        "    songs = extract_song_snippet(text)\n",
        "    return songs\n",
        "\n",
        "def extract_song_snippet(text):\n",
        "    pattern = '\\n\\n(.*?)\\n\\n'\n",
        "    search_results = re.findall(pattern, text, overlapped=True, flags=re.DOTALL)\n",
        "    songs = [song for song in search_results]\n",
        "    print(\"Found {} songs in text\".format(len(songs)))\n",
        "    return songs\n",
        "\n",
        "def save_song_to_abc(song, filename=\"tmp\"):\n",
        "    save_name = \"{}.abc\".format(filename)\n",
        "    print(save_name)\n",
        "    with open(save_name, \"w\") as f:\n",
        "        f.write(song)\n",
        "    return filename\n",
        "\n",
        "def abc2wav(abc_file):\n",
        "    path_to_tool = os.path.join(cwd, 'introtodeeplearning_labs/mitdeeplearning/bin', 'abc2wav')\n",
        "    cmd = \"{} {}\".format(path_to_tool, abc_file)\n",
        "    print(cmd)\n",
        "    return os.system(cmd)\n",
        "\n",
        "def play_wav(wav_file):\n",
        "    return Audio(wav_file)\n",
        "\n",
        "def play_song(song):\n",
        "    basename = save_song_to_abc(song)\n",
        "    ret = abc2wav(basename+'.abc')\n",
        "    print(ret)\n",
        "   # if ret == 0: #did not suceed\n",
        "        #return play_wav(basename+'.wav')\n",
        "    return None\n",
        "\n",
        "def play_generated_song(generated_text):\n",
        "    songs = extract_song_snippet(generated_text)\n",
        "    print(songs)\n",
        "    if len(songs) == 0:\n",
        "        print(\"No valid songs found in generated text. Try training the \\\n",
        "            model longer or increasing the amount of generated music to \\\n",
        "            ensure complete songs are generated!\")\n",
        "\n",
        "    for song in songs:\n",
        "        play_song(song)\n",
        "    print(\"None of the songs were valid, try training longer to improve \\\n",
        "        syntax.\")\n",
        "\n",
        "def test_batch_func_types(func, args):\n",
        "    ret = func(*args)\n",
        "    assert len(ret) == 2, \"[FAIL] get_batch must return two arguments (input and label)\"\n",
        "    assert type(ret[0]) == np.ndarray, \"[FAIL] test_batch_func_types: x is not np.array\"\n",
        "    assert type(ret[1]) == np.ndarray, \"[FAIL] test_batch_func_types: y is not np.array\"\n",
        "    print(\"[PASS] test_batch_func_types\")\n",
        "    return True\n",
        "\n",
        "def test_batch_func_shapes(func, args):\n",
        "    dataset, seq_length, batch_size = args\n",
        "    x, y = func(*args)\n",
        "    correct = (batch_size, seq_length)\n",
        "    assert x.shape == correct, \"[FAIL] test_batch_func_shapes: x {} is not correct shape {}\".format(x.shape, correct)\n",
        "    assert y.shape == correct, \"[FAIL] test_batch_func_shapes: y {} is not correct shape {}\".format(y.shape, correct)\n",
        "    print(\"[PASS] test_batch_func_shapes\")\n",
        "    return True\n",
        "\n",
        "def test_batch_func_next_step(func, args):\n",
        "    x, y = func(*args)\n",
        "    assert (x[:,1:] == y[:,:-1]).all(), \"[FAIL] test_batch_func_next_step: x_{t} must equal y_{t-1} for all t\"\n",
        "    print(\"[PASS] test_batch_func_next_step\")\n",
        "    return True\n",
        "\n",
        "def test_custom_dense_layer_output(y):\n",
        "    true_y = np.array([[0.2697859,  0.45750418, 0.66536945]],dtype='float32')\n",
        "    assert tf.shape(y).numpy().tolist() == list(true_y.shape), \"[FAIL] output is of incorrect shape. expected {} but got {}\".format(true_y.shape, y.numpy().shape)\n",
        "    np.testing.assert_almost_equal(y.numpy(), true_y, decimal=7, err_msg=\"[FAIL] output is of incorrect value. expected {} but got {}\".format(y.numpy(), true_y), verbose=True)\n",
        "    print(\"[PASS] test_custom_dense_layer_output\")\n",
        "    return True"
      ],
      "execution_count": 0,
      "outputs": []
    },
    {
      "cell_type": "code",
      "metadata": {
        "id": "fah1goYFK6Ze",
        "colab_type": "code",
        "colab": {}
      },
      "source": [
        "def LSTM(rnn_units): \n",
        "  return tf.keras.layers.LSTM(\n",
        "    rnn_units, \n",
        "    return_sequences=True, \n",
        "    recurrent_initializer='glorot_uniform',\n",
        "    recurrent_activation='sigmoid',\n",
        "    stateful=True,\n",
        "  )"
      ],
      "execution_count": 0,
      "outputs": []
    },
    {
      "cell_type": "code",
      "metadata": {
        "id": "6URIrx1xK8t4",
        "colab_type": "code",
        "colab": {}
      },
      "source": [
        "def build_model(vocab_size, embedding_dim, rnn_units, batch_size):\n",
        "   \n",
        "  model = tf.keras.Sequential([\n",
        "   \n",
        "    tf.keras.layers.Embedding(vocab_size, embedding_dim, batch_input_shape=[batch_size, None]),\n",
        "\n",
        "    \n",
        "   LSTM(rnn_units), \n",
        "    \n",
        "    tf.keras.layers.Dense(vocab_size)\n",
        "    \n",
        "  ])\n",
        "\n",
        "  return model"
      ],
      "execution_count": 0,
      "outputs": []
    },
    {
      "cell_type": "code",
      "metadata": {
        "id": "5wtiYFc8K_E3",
        "colab_type": "code",
        "colab": {}
      },
      "source": [
        "def compute_loss(labels, logits):\n",
        "  loss = tf.keras.losses.sparse_categorical_crossentropy(labels, logits, from_logits=True)\n",
        "  return loss"
      ],
      "execution_count": 0,
      "outputs": []
    },
    {
      "cell_type": "code",
      "metadata": {
        "id": "g_f3k2H9LAxb",
        "colab_type": "code",
        "colab": {}
      },
      "source": [
        "def encode_notes_full(notesArr):\n",
        "    size = math.ceil(notesArr[-1:][1])\n",
        "    sizeF = size*8\n",
        "    mod = sizeF%120\n",
        "    pad = 0\n",
        "    if(mod != 0):\n",
        "         pad = 120 - mod\n",
        "    encodeNotes =  pd.DataFrame([[0.0]*30]*(sizeF+pad))\n",
        "    length = len(notesArr)\n",
        "    count = 0\n",
        "    partInt=0\n",
        "    for i in range(length):\n",
        "        start = notesArr[0][i]\n",
        "        count = 0\n",
        "        end = notesArr[1][i]\n",
        "        dur = float(end) - float(start)\n",
        "        startInt = int(float(start))\n",
        "        part = float(start) - startInt\n",
        "        index = (startInt)*8\n",
        "        if(part<=0.125):\n",
        "            partInt = 0\n",
        "        elif(0.125<part<=0.25):\n",
        "            partInt = 1\n",
        "        elif(0.25<part<=0.375):\n",
        "            partInt = 2\n",
        "        elif(0.375<part<=0.5):\n",
        "            partInt = 3\n",
        "        elif(0.5<part<=0.625):\n",
        "            partInt = 4\n",
        "        elif(0.625<part<=0.75):\n",
        "            partInt = 5\n",
        "        elif(0.75<part<=0.875):\n",
        "            partInt = 6\n",
        "        elif(0.875<part<=1.0):\n",
        "            partInt = 7\n",
        "        #print(partInt)\n",
        "        for j in range(29):\n",
        "            if(encodeNotes[j][index + partInt]==0.0 and encodeNotes[j+1][index + partInt]==0.0 and encodeNotes[j+2][index + partInt]==0.0):\n",
        "                #print('here')\n",
        "                encodeNotes[j][index + partInt] = dur\n",
        "                encodeNotes[j+1][index + partInt] = notesArr[2][i]\n",
        "                encodeNotes[j+2][index + partInt] = notesArr[3][i]\n",
        "                break\n",
        "    return encodeNotes\n",
        "            "
      ],
      "execution_count": 0,
      "outputs": []
    },
    {
      "cell_type": "code",
      "metadata": {
        "id": "F1dj7_glLEYy",
        "colab_type": "code",
        "colab": {}
      },
      "source": [
        "infile = open('/content/drive/My Drive/MusicData/balladArr.pkl','rb')\n",
        "ballad = pickle.load(infile)\n",
        "infile.close()"
      ],
      "execution_count": 0,
      "outputs": []
    },
    {
      "cell_type": "code",
      "metadata": {
        "id": "0x-8dGbNLyXw",
        "colab_type": "code",
        "colab": {}
      },
      "source": [
        "modelF = build_model(200, embedding_dim=256, rnn_units=1024, batch_size=120)"
      ],
      "execution_count": 0,
      "outputs": []
    },
    {
      "cell_type": "code",
      "metadata": {
        "id": "B6K0buhuMYKN",
        "colab_type": "code",
        "colab": {}
      },
      "source": [
        "def get_encoded_song( songNum, instrument):\n",
        "    drums = encode_notes_full(ballad[0][songNum])\n",
        "    piano = encode_notes_full(ballad[1][songNum])\n",
        "    guitar = encode_notes_full(ballad[2][songNum])\n",
        "    bass = encode_notes_full(ballad[3][songNum])\n",
        "    fullSong = pd.concat([drums, piano, guitar, bass], axis=1, sort=False)\n",
        "    if(instrument=='drums'):\n",
        "        zero =  pd.DataFrame([[0.0]*30]*(len(drums)))\n",
        "        insSong = pd.concat([drums, zero, zero, zero], axis=1, sort=False)\n",
        "    if(instrument=='piano'):\n",
        "        zero =  pd.DataFrame([[0.0]*30]*(len(piano)))\n",
        "        insSong = pd.concat([zero, piano, zero, zero], axis=1, sort=False)\n",
        "    if(instrument=='guitar'):\n",
        "        zero =  pd.DataFrame([[0.0]*30]*(len(guitar)))\n",
        "        insSong = pd.concat([zero, zero, guitar, zero], axis=1, sort=False)\n",
        "    if(instrument=='bass'):\n",
        "        zero =  pd.DataFrame([[0.0]*30]*(len(bass)))\n",
        "        insSong = pd.concat([zero, zero, zero, bass], axis=1, sort=False)\n",
        "    fullSong.fillna(0.0, inplace=True)\n",
        "    insSong.fillna(0.0, inplace=True)\n",
        "    return fullSong, insSong\n",
        "    "
      ],
      "execution_count": 0,
      "outputs": []
    },
    {
      "cell_type": "code",
      "metadata": {
        "id": "jMZfuzXjMYnY",
        "colab_type": "code",
        "colab": {}
      },
      "source": [
        "def get_batchF(encodedNotes, encodedIns1, iteration):\n",
        "\n",
        "    idx = int(iteration * 120)\n",
        "    input_batch = encodedNotes[idx:(idx+120)].values\n",
        "\n",
        "    output_batch = encodedIns1[(idx+120):(idx+240)].values\n",
        "    output_batch[output_batch > 200] = 200\n",
        "    output_batch[output_batch < 0] = 0\n",
        "    input_batch[input_batch > 200] = 200\n",
        "    input_batch[input_batch < 0] = 0\n",
        "    return input_batch, output_batch"
      ],
      "execution_count": 0,
      "outputs": []
    },
    {
      "cell_type": "code",
      "metadata": {
        "id": "2_SnOP8VMqcX",
        "colab_type": "code",
        "colab": {}
      },
      "source": [
        ""
      ],
      "execution_count": 0,
      "outputs": []
    },
    {
      "cell_type": "code",
      "metadata": {
        "id": "Tpxldx7qMa4b",
        "colab_type": "code",
        "colab": {}
      },
      "source": [
        "num_training_iterations = 2*len(ballad)\n",
        "learning_rate = 5e-3 \n",
        "#genreCleaned= house\n",
        "instrument = 'piano'\n",
        "totalSongs = len(ballad)\n",
        "\n",
        "checkpoint_dir = '/content/drive/My Drive/MusicData/' \n",
        "checkpoint_prefix = os.path.join(checkpoint_dir, \"balladPiano\")"
      ],
      "execution_count": 0,
      "outputs": []
    },
    {
      "cell_type": "code",
      "metadata": {
        "id": "idex9a1aMzvf",
        "colab_type": "code",
        "colab": {
          "base_uri": "https://localhost:8080/",
          "height": 296
        },
        "outputId": "1a69949a-ed54-4056-cb00-f197fbdfa6a1"
      },
      "source": [
        "optimizer = tf.keras.optimizers.Adam(learning_rate)\n",
        "\n",
        "@tf.function\n",
        "def train_step(x, y): \n",
        "\n",
        "  with tf.GradientTape() as tape:\n",
        "  \n",
        "    y_hat = modelF(x) \n",
        "    \n",
        "    loss = compute_loss(y, y_hat) \n",
        "\n",
        " \n",
        "  grads = tape.gradient(loss, modelF.trainable_variables) \n",
        "  \n",
        "  optimizer.apply_gradients(zip(grads, modelF.trainable_variables))\n",
        "  return loss\n",
        "\n",
        "history = []\n",
        "plotter = PeriodicPlotter(sec=2, xlabel='Iterations', ylabel='Loss')\n",
        "if hasattr(tqdm, '_instances'): tqdm._instances.clear() \n",
        "for iter in tqdm(range(num_training_iterations)):\n",
        "    if (iter>totalSongs):\n",
        "        songNum = iter%totalSongs\n",
        "    else: \n",
        "        songNum = iter\n",
        "    \n",
        "    song, ins = get_encoded_song( iter, instrument)\n",
        "    \n",
        "    for j in range(int(min((len(song)/120)-1,int((len(ins)/120)-1)))):\n",
        "        print(j)\n",
        "        x_batch, y_batch = get_batchF(song, ins, j)\n",
        "        loss = train_step(x_batch, y_batch)\n",
        "        \n",
        "    history.append(loss.numpy().mean())\n",
        "    plotter.plot(history)\n",
        "\n",
        "    if(iter % 100 == 0):     \n",
        "            print('Saved')\n",
        "            modelF.save_weights(checkpoint_prefix)\n",
        "    \n",
        "\n",
        "modelF.save_weights(checkpoint_prefix)"
      ],
      "execution_count": 0,
      "outputs": [
        {
          "output_type": "display_data",
          "data": {
            "image/png": "[encoded data removed]",
            "text/plain": [
              "<Figure size 432x288 with 1 Axes>"
            ]
          },
          "metadata": {
            "tags": []
          }
        },
        {
          "output_type": "stream",
          "text": [
            "\r  3%|▎         | 215/6426 [1:23:40<59:15:08, 34.34s/it]"
          ],
          "name": "stderr"
        },
        {
          "output_type": "stream",
          "text": [
            "0\n"
          ],
          "name": "stdout"
        }
      ]
    },
    {
      "cell_type": "code",
      "metadata": {
        "id": "EEWL1FU3M7VA",
        "colab_type": "code",
        "colab": {},
        "cellView": "code"
      },
      "source": [
        "'''Questions about our approach\n",
        "\n",
        "Explanation of method - RNN: \n",
        "\n",
        "As previously discussed out choice of an RNN network was well fitted to the task as we've been able ot achieve relatively low loss \n",
        "across mutiple genres (only one present in this notebook).\n",
        "We are currently using sparse categorical cross entropy as our loss function and setting the model parameters to 1024 rnn units and 256 nodes in the embedding layer\n",
        "\n",
        "Changes from previous:\n",
        "\n",
        "We strongly adjusted the encoding method from the previous iteration to include more seperation of notes by inception time (8 instead of 4 buckets per second) and more notes at each time step \n",
        "to account for genres like house that have many overlapping notes. However, this makes the note representation quite sparse which is an issue as it artificially inflated loss because so many values are zero.\n",
        "We are looing in to adjusting the loss function and test batch to correct this, and looking into changing the encoding a bit as well. \n",
        "\n",
        "Discussion of Results:\n",
        "\n",
        "We are still training many of the models (they take quite a while to train and it also was slow to pass the note data through our pipelines as well). However our preliminary findings indicate there is \n",
        "not a susbtantial difference in the ability to learn the genres based on their loss rates. This coould change as we modify the loss/ encoding as described above, but as a preliminary finding is \n",
        "a solid answer in regards to our research question. We will procede to analyze if there is any difference in the type of features that are learned even if the loss rate is similar. \n",
        "\n"
      ],
      "execution_count": 0,
      "outputs": []
    }
  ]
}